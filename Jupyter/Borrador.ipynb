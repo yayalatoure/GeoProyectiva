{
 "cells": [
  {
   "cell_type": "code",
   "execution_count": 1,
   "metadata": {},
   "outputs": [],
   "source": [
    "import numpy as np\n",
    "%matplotlib inline\n",
    "import matplotlib.pyplot as plt\n",
    "plt.style.use('seaborn-whitegrid')"
   ]
  },
  {
   "cell_type": "code",
   "execution_count": 4,
   "metadata": {},
   "outputs": [],
   "source": [
    "#Zone1\n",
    "percentMax1 = 20.0;\n",
    "yMin1 = -300.0;\n",
    "yMax1 = -50.0;\n",
    "\n",
    "slope1 = (percentMax1/(yMax1-yMin1))\n",
    "intercept1 = -((percentMax1/(yMax1-yMin1))*yMin1)\n",
    "\n",
    "#Zone2\n",
    "percentMax2 = 85.0;\n",
    "yMin2 = -50.0;\n",
    "yMax2 = 100.0;\n",
    "\n",
    "slope2 = (percentMax2-percentMax1)/(yMax2-yMin2)\n",
    "intercept2 = percentMax1-((percentMax2-percentMax1)/(yMax2-yMin2))*yMin2\n",
    "\n",
    "#Zone3\n",
    "percentMax3 = 85;\n",
    "yMin3 = 100.0;\n",
    "yMax3 = 300.0;\n",
    "\n",
    "slope3 = (percentMax3-percentMax2)/(yMax3-yMin3)\n",
    "intercept3 = percentMax2-((percentMax3-percentMax2)/(yMax3-yMin3))*yMin3"
   ]
  },
  {
   "cell_type": "code",
   "execution_count": 5,
   "metadata": {},
   "outputs": [
    {
     "data": {
      "image/png": "[encoded data removed]",
      "text/plain": [
       "<Figure size 432x288 with 1 Axes>"
      ]
     },
     "metadata": {},
     "output_type": "display_data"
    }
   ],
   "source": [
    "fig = plt.figure()\n",
    "ax = plt.axes()\n",
    "\n",
    "y1 = np.linspace(0, 250, 250) - 300\n",
    "y2 = np.linspace(0, 150, 150) - 50\n",
    "y3 = np.linspace(0, 200, 200) + 100\n",
    "\n",
    "p1 = slope1*y1 + intercept1\n",
    "p2 = slope2*y2 + intercept2\n",
    "p3 = slope3*y3 + intercept3\n",
    "\n",
    "ax.plot(y1, p1, color='r');\n",
    "ax.plot(y2, p2, color='b');\n",
    "ax.plot(y3, p3, color='g');"
   ]
  },
  {
   "cell_type": "code",
   "execution_count": null,
   "metadata": {},
   "outputs": [],
   "source": []
  }
 ],
 "metadata": {
  "kernelspec": {
   "display_name": "Python 2",
   "language": "python",
   "name": "python2"
  },
  "language_info": {
   "codemirror_mode": {
    "name": "ipython",
    "version": 2
   },
   "file_extension": ".py",
   "mimetype": "text/x-python",
   "name": "python",
   "nbconvert_exporter": "python",
   "pygments_lexer": "ipython2",
   "version": "2.7.15"
  }
 },
 "nbformat": 4,
 "nbformat_minor": 2
}
